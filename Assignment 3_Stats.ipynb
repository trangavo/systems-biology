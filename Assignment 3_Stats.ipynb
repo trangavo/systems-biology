{
 "cells": [
  {
   "cell_type": "markdown",
   "metadata": {},
   "source": [
    "# Starter Codes for Statistics Problem Set\n",
    "Look out for `### TODO` comments. Those require you to fill out the code for everything to run successfully :)"
   ]
  },
  {
   "cell_type": "code",
   "execution_count": 2,
   "metadata": {},
   "outputs": [],
   "source": [
    "import numpy as np\n",
    "import matplotlib.pyplot as plt\n",
    "import copy\n",
    "\n",
    "import scipy as sp\n",
    "import scipy.stats as sts\n",
    "from scipy.optimize import minimize\n",
    "from scipy.special import factorial"
   ]
  },
  {
   "cell_type": "markdown",
   "metadata": {},
   "source": [
    "## Part 2B\n",
    "### Question 1"
   ]
  },
  {
   "cell_type": "code",
   "execution_count": 9,
   "metadata": {},
   "outputs": [
    {
     "name": "stdout",
     "output_type": "stream",
     "text": [
      "3.5\n",
      "3.45\n"
     ]
    }
   ],
   "source": [
    "### TODO: insert dataset here\n",
    "data = [3, 2, 1, 1, 5, 2, 4, 5, 6, 6]\n",
    "\n",
    "### TODO: find mean and variance\n",
    "print(np.mean(data))\n",
    "print(np.var(data))"
   ]
  },
  {
   "cell_type": "markdown",
   "metadata": {},
   "source": [
    "### Question 2"
   ]
  },
  {
   "cell_type": "code",
   "execution_count": 10,
   "metadata": {},
   "outputs": [],
   "source": [
    "# source: https://stackoverflow.com/a/25828558\n",
    "\n",
    "def poisson(k, lamb):\n",
    "    return (lamb**k/factorial(k)) * np.exp(-lamb)\n",
    "\n",
    "\n",
    "def negative_log_likelihood(params, data):\n",
    "    return -np.sum(np.log(poisson(data, params[0])))\n",
    "\n",
    "def negative_log_likelihood(params, data):\n",
    "    return -sts.poisson.logpmf(data, params[0]).sum()"
   ]
  },
  {
   "cell_type": "code",
   "execution_count": 25,
   "metadata": {},
   "outputs": [
    {
     "name": "stdout",
     "output_type": "stream",
     "text": [
      "predicted mean:  3.5000000028771523\n"
     ]
    },
    {
     "data": {
      "image/png": "[encoded data removed]",
      "text/plain": [
       "<Figure size 432x288 with 1 Axes>"
      ]
     },
     "metadata": {
      "needs_background": "light"
     },
     "output_type": "display_data"
    }
   ],
   "source": [
    "# source: https://stackoverflow.com/a/25828558\n",
    "\n",
    "# MLE: minimize the negative log-likelihood\n",
    "result = minimize(negative_log_likelihood,  # function to minimize\n",
    "                  x0=np.ones(1),            # start value\n",
    "                  args=(data,),             # additional arguments for function\n",
    "                  method='Powell',          # minimization method, see docs\n",
    "                  )\n",
    "\n",
    "# index for x-axis, number of moldy spots \n",
    "k = np.arange(0, 12)\n",
    "\n",
    "# get the density values for each x\n",
    "prior = sts.poisson.pmf(k, result.x)\n",
    "\n",
    "print('predicted mean: ', result.x)\n",
    "\n",
    "plt.scatter(k, prior,label='prior')\n",
    "plt.xlabel('# of mouldy spots')\n",
    "plt.ylabel('Probability')\n",
    "plt.legend()\n",
    "plt.show()"
   ]
  },
  {
   "cell_type": "code",
   "execution_count": 22,
   "metadata": {},
   "outputs": [
    {
     "data": {
      "text/plain": [
       "   direc: array([[-0.00744632]])\n",
       "     fun: 20.242889672942304\n",
       " message: 'Optimization terminated successfully.'\n",
       "    nfev: 34\n",
       "     nit: 2\n",
       "  status: 0\n",
       " success: True\n",
       "       x: array(3.5)"
      ]
     },
     "execution_count": 22,
     "metadata": {},
     "output_type": "execute_result"
    }
   ],
   "source": [
    "result"
   ]
  },
  {
   "cell_type": "markdown",
   "metadata": {},
   "source": [
    "## Part 2C\n",
    "### Question 1"
   ]
  },
  {
   "cell_type": "code",
   "execution_count": 31,
   "metadata": {},
   "outputs": [],
   "source": [
    "### TODO: new observations and combined list here\n",
    "new_data = [1, 0, 4, 11, 3, 4, 9, 0, 3, 8, 1, 2, 2, 4, 3, 4, 1, 3, 1, 4]\n",
    "all_data = data + new_data  # consider list concatenation :)"
   ]
  },
  {
   "cell_type": "code",
   "execution_count": 32,
   "metadata": {},
   "outputs": [
    {
     "name": "stdout",
     "output_type": "stream",
     "text": [
      "3.42\n",
      "7.203600000000002\n"
     ]
    }
   ],
   "source": [
    "### TODO: print out mean and variance of all the data\n",
    "print(np.mean(all_data))\n",
    "print(np.var(all_data))"
   ]
  },
  {
   "cell_type": "markdown",
   "metadata": {},
   "source": [
    "### Question 2\n",
    "For the likelihood, we pick something with positive support, such as a truncated normal distribution since we cannot have negative number of mold spot counts."
   ]
  },
  {
   "cell_type": "code",
   "execution_count": 33,
   "metadata": {},
   "outputs": [
    {
     "data": {
      "image/png": "[encoded data removed]",
      "text/plain": [
       "<Figure size 432x288 with 1 Axes>"
      ]
     },
     "metadata": {
      "needs_background": "light"
     },
     "output_type": "display_data"
    }
   ],
   "source": [
    "lower_limit = 0\n",
    "upper_limit = np.inf\n",
    "sigma = 1  # std for likelihood\n",
    "\n",
    "def likelihood(datum):\n",
    "    likelihood_dist = sts.truncnorm.pdf(\n",
    "        datum,\n",
    "        (lower_limit - k) / sigma,\n",
    "        (upper_limit - k) / sigma,\n",
    "        loc=k,\n",
    "        scale=sigma\n",
    "    )\n",
    "\n",
    "    return likelihood_dist\n",
    "\n",
    "plt.scatter(k, likelihood(3))  # example likelihood of a datapoint k = 3\n",
    "plt.show()"
   ]
  },
  {
   "cell_type": "markdown",
   "metadata": {},
   "source": [
    "Reminder about Bayesian update rule:\n",
    "\n",
    "$P(\\theta|X) = \\dfrac{P(X|\\theta)P(\\theta)}{P(X)}$,\n",
    "\n",
    "where:\n",
    "- $\\theta$ is the distribution parameter\n",
    "- $X$ is the observation\n",
    "- $P(\\theta|X)$ is the posterior distribution (PDF)\n",
    "- $P(\\theta)$ is the prior distribution (PDF)\n",
    "- $P(X|\\theta)$ is the likelihood distribution (not a PDF)\n",
    "- $P(X)$ is the evidence (we don't need this as we will just divide by the area under PDF curve)"
   ]
  },
  {
   "cell_type": "code",
   "execution_count": 34,
   "metadata": {},
   "outputs": [],
   "source": [
    "unnormalized_posterior = copy.deepcopy(prior)\n",
    "\n",
    "for datum in new_data:\n",
    "    lklhd = likelihood(datum)\n",
    "    \n",
    "    ### TODO: what is the posterior? (hint: you can forget about P(X) for now)\n",
    "    unnormalized_posterior *= lklhd\n",
    "    \n",
    "# normalize the posterior so that area under this new PDF adds up to 1\n",
    "area = sp.integrate.trapz(unnormalized_posterior, k) + 1e-10000\n",
    "posterior = unnormalized_posterior / area"
   ]
  },
  {
   "cell_type": "code",
   "execution_count": 35,
   "metadata": {},
   "outputs": [
    {
     "data": {
      "image/png": "[encoded data removed]",
      "text/plain": [
       "<Figure size 432x288 with 1 Axes>"
      ]
     },
     "metadata": {
      "needs_background": "light"
     },
     "output_type": "display_data"
    }
   ],
   "source": [
    "# comparing posterior to the prior\n",
    "plt.scatter(k, prior, label=\"prior\")\n",
    "plt.plot(k, posterior, label=\"posterior\", color=\"orange\")\n",
    "plt.legend()\n",
    "plt.show()"
   ]
  },
  {
   "cell_type": "code",
   "execution_count": 42,
   "metadata": {},
   "outputs": [
    {
     "name": "stdout",
     "output_type": "stream",
     "text": [
      "3.1034083903225778\n"
     ]
    }
   ],
   "source": [
    "### TODO: recover the estimated mean of the number of moldy spots from the posterior\n",
    "# HINT: probability density is a weighting of each data point in the discrete distribution (such as ours)\n",
    "mean = np.sum(k*posterior)  # expression containing `k` and `posterior` \n",
    "print(mean)"
   ]
  },
  {
   "cell_type": "code",
   "execution_count": null,
   "metadata": {},
   "outputs": [],
   "source": []
  }
 ],
 "metadata": {
  "kernelspec": {
   "display_name": "Python 3",
   "language": "python",
   "name": "python3"
  },
  "language_info": {
   "codemirror_mode": {
    "name": "ipython",
    "version": 3
   },
   "file_extension": ".py",
   "mimetype": "text/x-python",
   "name": "python",
   "nbconvert_exporter": "python",
   "pygments_lexer": "ipython3",
   "version": "3.6.8"
  }
 },
 "nbformat": 4,
 "nbformat_minor": 4
}
